{
 "cells": [
  {
   "cell_type": "markdown",
   "metadata": {},
   "source": [
    "# SQL Subqueries - Lab\n",
    "\n",
    "## Introduction\n",
    "\n",
    "Now that you've seen how subqueries work, it's time to get some practice writing them! Not all of the queries will require subqueries, but all will be a bit more complex and require some thought and review about aggregates, grouping, ordering, filtering, joins and subqueries. Good luck!  \n",
    "\n",
    "## Objectives\n",
    "\n",
    "You will be able to:\n",
    "\n",
    "* Write subqueries to decompose complex queries\n",
    "\n",
    "## CRM Database ERD\n",
    "\n",
    "Once again, here's the schema for the CRM database you'll continue to practice with.\n",
    "\n",
    "<img src=\"https://curriculum-content.s3.amazonaws.com/data-science/images/Database-Schema.png\" width=\"600\">\n",
    "\n",
    "## Connect to the Database\n",
    "\n",
    "As usual, start by importing the necessary packages and connecting to the database `data.sqlite`."
   ]
  },
  {
   "cell_type": "code",
   "execution_count": 1,
   "metadata": {},
   "outputs": [],
   "source": [
    "# Your code here; import the necessary packages\n",
    "import sqlite3\n",
    "import pandas as pd\n"
   ]
  },
  {
   "cell_type": "code",
   "execution_count": 2,
   "metadata": {},
   "outputs": [],
   "source": [
    "# Your code here; create the connection\n",
    "# Create a connection to the database\n",
    "conn = sqlite3.connect('data.sqlite')\n",
    "\n",
    "# Create a cursor object\n",
    "cur = conn.cursor()\n"
   ]
  },
  {
   "cell_type": "markdown",
   "metadata": {},
   "source": [
    "## Write an Equivalent Query using a Subquery\n",
    "\n",
    "The following query works using a `JOIN`. Rewrite it so that it uses a subquery instead.\n",
    "\n",
    "```\n",
    "SELECT\n",
    "    customerNumber,\n",
    "    contactLastName,\n",
    "    contactFirstName\n",
    "FROM customers\n",
    "JOIN orders \n",
    "    USING(customerNumber)\n",
    "WHERE orderDate = '2003-01-31'\n",
    ";\n",
    "```"
   ]
  },
  {
   "cell_type": "code",
   "execution_count": 3,
   "metadata": {},
   "outputs": [
    {
     "name": "stdout",
     "output_type": "stream",
     "text": [
      "   customerNumber contactLastName contactFirstName\n",
      "0             141          Freyre           Diego \n"
     ]
    }
   ],
   "source": [
    "# Your code here\n",
    "import sqlite3\n",
    "import pandas as pd\n",
    "\n",
    "# Create a connection to the database\n",
    "conn = sqlite3.connect('data.sqlite')\n",
    "\n",
    "# Define the query\n",
    "query = '''\n",
    "SELECT\n",
    "    customerNumber,\n",
    "    contactLastName,\n",
    "    contactFirstName\n",
    "FROM customers\n",
    "WHERE customerNumber IN (\n",
    "    SELECT customerNumber\n",
    "    FROM orders\n",
    "    WHERE orderDate = '2003-01-31'\n",
    ");\n",
    "'''\n",
    "\n",
    "# Execute the query and fetch the results into a DataFrame\n",
    "df = pd.read_sql_query(query, conn)\n",
    "\n",
    "# Display the results\n",
    "print(df)\n",
    "\n",
    "# Close the connection\n",
    "conn.close()\n"
   ]
  },
  {
   "cell_type": "markdown",
   "metadata": {},
   "source": [
    "## Select the Total Number of Orders for Each Product Name\n",
    "\n",
    "Sort the results by the total number of items sold for that product."
   ]
  },
  {
   "cell_type": "code",
   "execution_count": 4,
   "metadata": {},
   "outputs": [
    {
     "name": "stdout",
     "output_type": "stream",
     "text": [
      "                                 productName  totalOrders  totalItemsSold\n",
      "0                1992 Ferrari 360 Spider red           53            1808\n",
      "1                       1937 Lincoln Berline           28            1111\n",
      "2                  American Airlines: MD-11S           28            1085\n",
      "3    1941 Chevrolet Special Deluxe Cabriolet           28            1076\n",
      "4               1930 Buick Marquette Phaeton           28            1074\n",
      "..                                       ...          ...             ...\n",
      "104             1999 Indy 500 Monte Carlo SS           25             855\n",
      "105                       1911 Ford Town Car           25             832\n",
      "106         1936 Mercedes Benz 500k Roadster           25             824\n",
      "107               1970 Chevy Chevelle SS 454           25             803\n",
      "108                    1957 Ford Thunderbird           24             767\n",
      "\n",
      "[109 rows x 3 columns]\n"
     ]
    }
   ],
   "source": [
    "# Your code here\n",
    "import sqlite3\n",
    "import pandas as pd\n",
    "\n",
    "# Create a connection to the database\n",
    "conn = sqlite3.connect('data.sqlite')\n",
    "\n",
    "# Define the query\n",
    "query = '''\n",
    "SELECT\n",
    "    p.productName,\n",
    "    COUNT(od.orderNumber) AS totalOrders,\n",
    "    SUM(od.quantityOrdered) AS totalItemsSold\n",
    "FROM\n",
    "    products p\n",
    "JOIN\n",
    "    orderdetails od ON p.productCode = od.productCode\n",
    "GROUP BY\n",
    "    p.productName\n",
    "ORDER BY\n",
    "    totalItemsSold DESC;\n",
    "'''\n",
    "\n",
    "# Execute the query and fetch the results into a DataFrame\n",
    "df = pd.read_sql_query(query, conn)\n",
    "\n",
    "# Display the results\n",
    "print(df)\n",
    "\n",
    "# Close the connection\n",
    "conn.close()\n"
   ]
  },
  {
   "cell_type": "markdown",
   "metadata": {},
   "source": [
    "## Select the Product Name and the  Total Number of People Who Have Ordered Each Product\n",
    "\n",
    "Sort the results in descending order."
   ]
  },
  {
   "cell_type": "markdown",
   "metadata": {},
   "source": [
    "### A quick note on the SQL  `SELECT DISTINCT` statement:"
   ]
  },
  {
   "cell_type": "markdown",
   "metadata": {},
   "source": [
    "The `SELECT DISTINCT` statement is used to return only distinct values in the specified column. In other words, it removes the duplicate values in the column from the result set.\n",
    "\n",
    "Inside a table, a column often contains many duplicate values; and sometimes you only want to list the unique values. If you apply the `DISTINCT` clause to a column that has `NULL`, the `DISTINCT` clause will keep only one NULL and eliminates the other. In other words, the DISTINCT clause treats all `NULL` “values” as the same value."
   ]
  },
  {
   "cell_type": "code",
   "execution_count": 5,
   "metadata": {},
   "outputs": [
    {
     "name": "stdout",
     "output_type": "stream",
     "text": [
      "                city\n",
      "0             Nantes\n",
      "1          Las Vegas\n",
      "2          Melbourne\n",
      "3            Stavern\n",
      "4         San Rafael\n",
      "..               ...\n",
      "91          Mannheim\n",
      "92  Saint Petersburg\n",
      "93           Herzlia\n",
      "94           Sevilla\n",
      "95          Brisbane\n",
      "\n",
      "[96 rows x 1 columns]\n"
     ]
    }
   ],
   "source": [
    "# Your code here\n",
    "# Hint: because one of the tables we'll be joining has duplicate customer numbers, you should use DISTINCT\n",
    "import sqlite3\n",
    "import pandas as pd\n",
    "\n",
    "# Create a connection to the database\n",
    "conn = sqlite3.connect('data.sqlite')\n",
    "\n",
    "# Define the query\n",
    "query = '''\n",
    "SELECT DISTINCT city\n",
    "FROM customers;\n",
    "'''\n",
    "\n",
    "# Execute the query and fetch the results into a DataFrame\n",
    "df = pd.read_sql_query(query, conn)\n",
    "\n",
    "# Display the results\n",
    "print(df)\n",
    "\n",
    "# Close the connection\n",
    "conn.close()\n"
   ]
  },
  {
   "cell_type": "markdown",
   "metadata": {},
   "source": [
    "## Select the Employee Number, First Name, Last Name, City (of the office), and Office Code of the Employees Who Sold Products That Have Been Ordered by Fewer Than 20 people.\n",
    "\n",
    "This problem is a bit tougher. To start, think about how you might break the problem up. Be sure that your results only list each employee once."
   ]
  },
  {
   "cell_type": "code",
   "execution_count": 6,
   "metadata": {},
   "outputs": [
    {
     "name": "stdout",
     "output_type": "stream",
     "text": [
      "Empty DataFrame\n",
      "Columns: [employeeNumber, firstName, lastName, city, officeCode]\n",
      "Index: []\n"
     ]
    }
   ],
   "source": [
    "# Your code here\n",
    "import sqlite3\n",
    "import pandas as pd\n",
    "\n",
    "# Create a connection to the database\n",
    "conn = sqlite3.connect('data.sqlite')\n",
    "\n",
    "# Define the query\n",
    "query = '''\n",
    "SELECT DISTINCT\n",
    "    e.employeeNumber,\n",
    "    e.firstName,\n",
    "    e.lastName,\n",
    "    o.city,\n",
    "    e.officeCode\n",
    "FROM\n",
    "    employees e\n",
    "JOIN\n",
    "    offices o ON e.officeCode = o.officeCode\n",
    "JOIN\n",
    "    customers c ON e.employeeNumber = c.salesRepEmployeeNumber\n",
    "JOIN\n",
    "    orders ord ON c.customerNumber = ord.customerNumber\n",
    "JOIN\n",
    "    orderdetails od ON ord.orderNumber = od.orderNumber\n",
    "WHERE\n",
    "    od.productCode IN (\n",
    "        SELECT\n",
    "            productCode\n",
    "        FROM\n",
    "            orderdetails\n",
    "        GROUP BY\n",
    "            productCode\n",
    "        HAVING\n",
    "            COUNT(DISTINCT orderNumber) < 20\n",
    "    );\n",
    "'''\n",
    "\n",
    "# Execute the query and fetch the results into a DataFrame\n",
    "df = pd.read_sql_query(query, conn)\n",
    "\n",
    "# Display the results\n",
    "print(df)\n",
    "\n",
    "# Close the connection\n",
    "conn.close()\n"
   ]
  },
  {
   "cell_type": "markdown",
   "metadata": {},
   "source": [
    "## Select the Employee Number, First Name, Last Name, and Number of Customers for Employees Whose Customers Have an Average Credit Limit Over 15K"
   ]
  },
  {
   "cell_type": "code",
   "execution_count": 7,
   "metadata": {},
   "outputs": [
    {
     "name": "stdout",
     "output_type": "stream",
     "text": [
      "    employeeNumber firstName   lastName  numberOfCustomers\n",
      "0             1165    Leslie   Jennings                  6\n",
      "1             1166    Leslie   Thompson                  6\n",
      "2             1188     Julie   Firrelli                  6\n",
      "3             1216     Steve  Patterson                  6\n",
      "4             1286  Foon Yue      Tseng                  7\n",
      "5             1323    George     Vanauf                  8\n",
      "6             1337      Loui     Bondur                  6\n",
      "7             1370    Gerard  Hernandez                  7\n",
      "8             1401    Pamela   Castillo                 10\n",
      "9             1501     Larry       Bott                  8\n",
      "10            1504     Barry      Jones                  9\n",
      "11            1611      Andy     Fixter                  5\n",
      "12            1612     Peter      Marsh                  5\n",
      "13            1621      Mami      Nishi                  5\n",
      "14            1702    Martin     Gerard                  6\n"
     ]
    }
   ],
   "source": [
    "# Your code here\n",
    "import sqlite3\n",
    "import pandas as pd\n",
    "\n",
    "# Create a connection to the database\n",
    "conn = sqlite3.connect('data.sqlite')\n",
    "\n",
    "# Define the query\n",
    "query = '''\n",
    "SELECT\n",
    "    e.employeeNumber,\n",
    "    e.firstName,\n",
    "    e.lastName,\n",
    "    COUNT(c.customerNumber) AS numberOfCustomers\n",
    "FROM\n",
    "    employees e\n",
    "JOIN\n",
    "    customers c ON e.employeeNumber = c.salesRepEmployeeNumber\n",
    "GROUP BY\n",
    "    e.employeeNumber\n",
    "HAVING\n",
    "    AVG(c.creditLimit) > 15000;\n",
    "'''\n",
    "\n",
    "# Execute the query and fetch the results into a DataFrame\n",
    "df = pd.read_sql_query(query, conn)\n",
    "\n",
    "# Display the results\n",
    "print(df)\n",
    "\n",
    "# Close the connection\n",
    "conn.close()\n"
   ]
  },
  {
   "cell_type": "markdown",
   "metadata": {},
   "source": [
    "## Summary\n",
    "\n",
    "In this lesson, you got to practice some more complex SQL queries, some of which required subqueries. There's still plenty more SQL to be had though; hope you've been enjoying some of these puzzles!"
   ]
  }
 ],
 "metadata": {
  "kernelspec": {
   "display_name": "Python 3 (ipykernel)",
   "language": "python",
   "name": "python3"
  },
  "language_info": {
   "codemirror_mode": {
    "name": "ipython",
    "version": 3
   },
   "file_extension": ".py",
   "mimetype": "text/x-python",
   "name": "python",
   "nbconvert_exporter": "python",
   "pygments_lexer": "ipython3",
   "version": "3.8.16"
  },
  "toc": {
   "base_numbering": 1,
   "nav_menu": {},
   "number_sections": true,
   "sideBar": true,
   "skip_h1_title": false,
   "title_cell": "Table of Contents",
   "title_sidebar": "Contents",
   "toc_cell": false,
   "toc_position": {},
   "toc_section_display": true,
   "toc_window_display": false
  }
 },
 "nbformat": 4,
 "nbformat_minor": 4
}
